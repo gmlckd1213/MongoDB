{
 "cells": [
  {
   "cell_type": "markdown",
   "id": "nutritional-basket",
   "metadata": {},
   "source": [
    "# Mongo DB<br>\n",
    "\n",
    "가장 유명한 NoSQL DBMS이다.<br>\n",
    "DB접속 -> 정보저장 -> 정보확인"
   ]
  },
  {
   "cell_type": "markdown",
   "id": "figured-berkeley",
   "metadata": {},
   "source": [
    "## DB접속\n",
    "\n",
    "```shell\n",
    "use myDatabase\n",
    "```\n"
   ]
  },
  {
   "cell_type": "markdown",
   "id": "parental-citation",
   "metadata": {},
   "source": [
    "## 정보저장\n",
    "\n",
    "```shell\n",
    "use myDatabase\n",
    "db.initialCollection.insertOne({hello: \"world\"})\n",
    "```"
   ]
  },
  {
   "cell_type": "markdown",
   "id": "recovered-interference",
   "metadata": {},
   "source": [
    "## 정보확인\n",
    "\n",
    "```shell\n",
    "use myDatabase\n",
    "db.initialCollection.insertOne({hello: \"world\"})\n",
    "db.initialCollection.find()\n",
    "```"
   ]
  },
  {
   "cell_type": "markdown",
   "id": "dominican-parcel",
   "metadata": {},
   "source": [
    "- 질의 명령어가 SQL이 아니다.\n",
    "- 정보의 형식을 미리 정하지 않는다.\n",
    "- _id 값이 자동저장되었다."
   ]
  },
  {
   "cell_type": "markdown",
   "id": "optional-battle",
   "metadata": {},
   "source": [
    "### NoSQL의 특징을 담고 있는 MongoDB\n"
   ]
  },
  {
   "cell_type": "markdown",
   "id": "simple-spelling",
   "metadata": {},
   "source": [
    "# NoSQL DBMS?\n",
    "\n",
    "Not Only SQL : 전통적인 관계형 데이터베이스 보다 덜 제한적인 일관성 모델을 제공하는 DB<br>\n",
    "Database Management System : 데이터를 저장하고 관리하는 시스템 실생활에 간략하게 DB라부른다.<br><br>\n",
    "\n",
    "#### 특징\n",
    "\n",
    "기존 RDBMS가 일관성 모델 때문에 가질 수 없었던 확장성, 유연성, 고성능, 고기능성을 확보함."
   ]
  },
  {
   "cell_type": "markdown",
   "id": "sound-reservation",
   "metadata": {},
   "source": [
    "## 전통적 RDBMS의 규칙\n",
    "\n",
    "* ACID 원칙 준수(ACID : 데이터의 유효성 보장을 위한 트랜잭션의 특징들)\n",
    "* 2차원의 테이블 형태\n",
    "* SQL을 통한 질의<br><br>\n",
    "\n",
    "\n",
    "서버에 요구되는 정보 처리량의 급속한 증가<br>\n",
    "정보 처리량을 늘리려면 *규칙*을 깨야한다.<br><br>\n",
    "- 안정성에 중점을 둔 RDBMS(MySQL, PostgreSQL, ORACLE)<br>\n",
    "- 확장성과 성능 최적화에 특화된 NoSQL(MongoDB, redis, elasticsearch<br>\n",
    "\n",
    "특정 기능에 대해서는 RDBMS의 규칙이 비효율적이다.\n",
    "- 범용적으로 활용 가능한 RDBMS(MySQL, PostgreSQL, ORACLE)<br>\n",
    "- 각각의 기능에 특화된 NoSQL(MongoDB, redis, elasticsearch<br>\n",
    "\n",
    "\n",
    "\n"
   ]
  },
  {
   "cell_type": "markdown",
   "id": "domestic-contribution",
   "metadata": {},
   "source": [
    "## Why MongoDB?<br>\n",
    "\n",
    "현대적 설계로 고성능을 내면서 동시에 많은 기능과 안정화가 이루어진 다목적 DB<br><br>\n",
    "\n",
    "* 과거에는 하나의 DBMS로 처리하는 상황이 빈번했다.<br>\n",
    "기존 RDBMS는 하나의 인스턴스에서 작동하는 것이 기본값<br>\n",
    "\n",
    "* 요즘은 처리할 데이터양이 많아서 분산컴퓨팅이 빈번하다.<br>\n",
    "현대적 DBMS는 분산 컴퓨팅을 하는 것이 기본값"
   ]
  },
  {
   "cell_type": "markdown",
   "id": "forty-button",
   "metadata": {},
   "source": [
    "# MongoDBd에서 지원하는 분산컴퓨팅 종류<br>\n",
    "\n",
    "## 1. 복제<br>\n",
    "복사하여 저장하는 방식<br>\n",
    "- 안정성을 높이기 위한 방식<br>\n",
    "- 원본서버가 망가져도 정상 서비스 가능<br><br>\n",
    "\n",
    "\n",
    "## 2. 샤딩<br>\n",
    "나누어 저장하는 방식<br>\n",
    "- 성능을 향상하기 위한 방식<br>\n",
    "- 읽기, 쓰기 성능 향상 가능"
   ]
  },
  {
   "cell_type": "markdown",
   "id": "serial-showcase",
   "metadata": {},
   "source": [
    "## 단일 인스턴스 DBMS에서 만약 쓰기 작업을 하다가 서버가 갑자기 꺼진다면?<br>\n",
    "mongoDB : 데이터가 의도치 않게 중간 상태로 저장될 수 있다.<br>\n",
    "MySQL : 데이터가 항상 저장 완료하거나 저장 실패한 상태로만 존재. <br>\n",
    "\n",
    "## WHY?\n",
    "MongoDB는 분산 컴퓨팅을 하는 것을 가정하고 쓰기 기본 성정이 되어 있다.<br>\n",
    "**Write-Concer, Read-Concern 설정**을 알아야 제대로 사용 가능하다."
   ]
  },
  {
   "cell_type": "markdown",
   "id": "functional-highlight",
   "metadata": {},
   "source": [
    "# JS 친화적 MongoDB\n"
   ]
  },
  {
   "cell_type": "markdown",
   "id": "saved-joining",
   "metadata": {},
   "source": [
    "2008년 JS속도를 획기적으로 향상시킨 **V8 엔진** 등장<br>\n",
    "　　　　　　　　　　　　|<br>\n",
    "2008년 chrome부상, 2009년 백엔드 개발이 가능한 NodeJS등장<br><br>\n",
    "V8엔진의 성능향상으로 MongoDB도 이런 대세를 활용하여 SQL을 몰라도 개발가능한 V8엔진의 JS 기반 쉬운 DBMS를 표방함"
   ]
  },
  {
   "cell_type": "markdown",
   "id": "welsh-privilege",
   "metadata": {},
   "source": [
    "### JSON과 비슷한 BSON구조로 정보를 저장한다."
   ]
  },
  {
   "cell_type": "markdown",
   "id": "initial-instrumentation",
   "metadata": {},
   "source": [
    "# MongoDB가 JS를 사용해서 얻은 특징<br>\n",
    "\n",
    "1. 웹 개발자에게 쉬운 입문이 가능\n",
    "2. BSON 자료형 사용\n",
    "3. 내부 명령어를 JS형식으로 사용"
   ]
  },
  {
   "cell_type": "markdown",
   "id": "welsh-guatemala",
   "metadata": {},
   "source": [
    "# MongoDB의 특장점\n",
    "\n",
    "* JS친화적이다.\n",
    "* 성능 확장이 쉽다.\n",
    "* 높은 성능을 낼 수 있다.\n",
    "* 유연한 구조로 저장할 수 있다.\n",
    "* 다양한 자료형을 지원한다."
   ]
  },
  {
   "cell_type": "markdown",
   "id": "noted-grave",
   "metadata": {},
   "source": [
    "### 활용\n",
    "\n",
    "1. 프로젝트 언어를 JS로 통일시키고자 할 때\n",
    "2. 기존의 JSON방식의 DB에서 좀 더 많은 기능과 성능이 필요할 때\n",
    "3. 앞으로 몇 명이 이용할지 예측이안되는 프로젝트, 한참개발 중이고 상황에 따라 데이터 구조가 쉽게 바뀔 수 있는 신규 프로젝트(파일럿 프로젝트)\n",
    "4. 비 정형화된 정보를 전산화<br>\n",
    "각종 예외사항이 적혀 있는 수기로 작성된 과거의 주문정보, 로그 데이터 형식의 정보를 저장할 때 정보를 정형화하기에 어려운 경우\n",
    "5. 안정성보다 높은 성능이 필요한 경우<br>\n",
    "NoSQL이 기존 DBMS보다 수십배는 더 높은 성능을 가짐, 안정성보다 높은 성능이 필요할 때(ex)카카오 모빌리티의 지도정보, sns정보저장)\n",
    "\n",
    "### 활용 X\n",
    "\n",
    "1. 높은 성능보다 안정성, 무결성이 중요한 경우<br>\n",
    "결제 시스템, 예약 시스템 데이터무결성이 중요한 경우\n",
    "2. 복잡한 쿼리가 빈번한 경우<br>\n",
    "JOIN, UNION과 같은 연산을 처리할 때 좀 더 복잡해진다, RDB와 비교했을 때 없는 함수가 꽤 있다."
   ]
  },
  {
   "cell_type": "markdown",
   "id": "horizontal-seller",
   "metadata": {},
   "source": []
  },
  {
   "cell_type": "markdown",
   "id": "wrong-river",
   "metadata": {},
   "source": []
  },
  {
   "cell_type": "markdown",
   "id": "conscious-karaoke",
   "metadata": {},
   "source": []
  },
  {
   "cell_type": "markdown",
   "id": "involved-snake",
   "metadata": {},
   "source": []
  },
  {
   "cell_type": "markdown",
   "id": "employed-battery",
   "metadata": {},
   "source": [
    "# "
   ]
  }
 ],
 "metadata": {
  "kernelspec": {
   "display_name": "Python 3.9.2 64-bit",
   "language": "python",
   "name": "python392jvsc74a57bd0aee8b7b246df8f9039afb4144a1f6fd8d2ca17a180786b69acc140d282b71a49"
  },
  "language_info": {
   "codemirror_mode": {
    "name": "ipython",
    "version": 3
   },
   "file_extension": ".py",
   "mimetype": "text/x-python",
   "name": "python",
   "nbconvert_exporter": "python",
   "pygments_lexer": "ipython3",
   "version": "3.9.2"
  }
 },
 "nbformat": 4,
 "nbformat_minor": 5
}

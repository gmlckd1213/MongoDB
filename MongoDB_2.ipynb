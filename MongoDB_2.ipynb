{
 "cells": [
  {
   "cell_type": "markdown",
   "id": "hourly-business",
   "metadata": {},
   "source": [
    "# MongoDB의 기본 구조<br>\n",
    "\n",
    "데이터베이스\n",
    "컬렉션\n",
    "도큐먼트"
   ]
  },
  {
   "cell_type": "markdown",
   "id": "collective-tiger",
   "metadata": {},
   "source": [
    "## pymongo?\n",
    "\n",
    "\n",
    "```python\n",
    "import pymongo\n",
    "connection = pymongo.MongoClient(\"mongpdb://localhost:27017/\") \n",
    "#localhost:내pc내부\n",
    " #27017:MongoDb기본포트\n",
    "```\n",
    "mongoDB를 사용할 수 있게 도와주는 파이썬 모듈"
   ]
  },
  {
   "cell_type": "markdown",
   "id": "confirmed-paste",
   "metadata": {},
   "source": [
    "## Pymongo로 DB접속\n",
    "\n",
    "```python\n",
    "import pymongo\n",
    "connection = pymongo.MongoClient(\"mongpdb://localhost:27017/\") \n",
    "db = connection.get_database(\"testDB\")\n",
    "```\n",
    "접속할 데이터베이스로 접근<br>\n",
    "만약 데이터베이스가 없으면 자동으로 생성한 후 접속"
   ]
  },
  {
   "cell_type": "markdown",
   "id": "floppy-checklist",
   "metadata": {},
   "source": [
    "## 컬렉션에 도큐먼트 삽입하기\n",
    "```python\n",
    "import pymongo\n",
    "connection = pymongo.MongoClient(\"mongpdb://localhost:27017/\") \n",
    "db = connection.get_database(\"testDB\")\n",
    "collection = db.get_collection(\"testCollection\")\n",
    "collection.insert_one({\"hello\": \"world\"})\n",
    "```\n",
    "컬렉션에 도큐먼트 저장<br>\n",
    "만약 컬렉션이 없다면 자동으로 생성됨"
   ]
  },
  {
   "cell_type": "markdown",
   "id": "convenient-concert",
   "metadata": {},
   "source": [
    "## testDB -> testCollection -> {\"hello\":\"world\"}"
   ]
  },
  {
   "cell_type": "markdown",
   "id": "provincial-inspector",
   "metadata": {},
   "source": [
    "#### 데이터베이스 목록조회\n",
    "```python\n",
    "print(connection.list_database_names())\n",
    "```\n",
    "#### 컬렉션 목록 조회\n",
    "```python\n",
    "print(db.list_collection_names())\n",
    "```\n",
    "#### pprint로 도큐먼트 목록 조회\n",
    "```python\n",
    "pprint(list(collection.find()))\n",
    "```"
   ]
  },
  {
   "cell_type": "markdown",
   "id": "terminal-lighting",
   "metadata": {},
   "source": [
    "# BSON(Binary JSON)?\n",
    "\n",
    "JSON의 일부로써 MongoDB 도큐먼트로 데이터를 저장하기 위한 형식"
   ]
  },
  {
   "cell_type": "markdown",
   "id": "smoking-found",
   "metadata": {},
   "source": [
    "### ObjectId?\n",
    "\n",
    "BSON의 데이터타입 중 하나로 MongoDB에서 Document 의 primary key의 값으로 사용된다.\n"
   ]
  },
  {
   "cell_type": "markdown",
   "id": "higher-grave",
   "metadata": {},
   "source": [
    "# 도큐먼트생성\n",
    "\n",
    "```python\n",
    "from pprint import pprint\n",
    "pprint({BSON document})\n",
    "```\n",
    "pretty print의 의미를 가진 명령어 pprint"
   ]
  },
  {
   "cell_type": "markdown",
   "id": "contrary-positive",
   "metadata": {},
   "source": [
    "### 데이터 삽입하기 실습\n",
    "```python\n",
    "import pymongo\n",
    "from pprint import pprint\n",
    "\n",
    "\n",
    "# 데이터베이스와 컬렉션을 생성하는 코드입니다. 수정하지 마세요!\n",
    "connection = pymongo.MongoClient(\"mongodb://localhost:27017/\")\n",
    "db = connection.get_database(\"library\")\n",
    "col = db.get_collection(\"books\")\n",
    "\n",
    "# 데이터를 만들고 삽입하세요.\n",
    "data = {\"title\": \"Romeo and Juliet\", \"author\": \"William Shakespeare\", \"date_received\": \"2012-04-01\"}\n",
    "\n",
    "result = col.insert_one(data)\n",
    "# 삽입된 데이터 id를 보기 좋게 출력하세요.\n",
    "pprint(result.inserted_id)\n",
    "\n",
    "```"
   ]
  },
  {
   "cell_type": "markdown",
   "id": "specific-chart",
   "metadata": {},
   "source": [
    "### 여러 데이터 삽입하기 실습\n",
    "```python\n",
    "import pymongo\n",
    "from pprint import pprint\n",
    "\n",
    "\n",
    "# 데이터베이스와 컬렉션을 생성하는 코드입니다. 수정하지 마세요!\n",
    "connection = pymongo.MongoClient(\"mongodb://localhost:27017/\")\n",
    "db = connection.get_database(\"library\")\n",
    "col = db.get_collection(\"books\")\n",
    "\n",
    "# 새로 들어온 책들입니다. 리스트로 묶어 선언하세요.\n",
    "new_book1 = {\"title\": \"Alice\\'s Adventures in Wonderland\", \"author\": \"Lewis Carroll\", \"publisher\": \"Macmillan\", \"date_received\": \"2015-11-26\"}\n",
    "new_book2 = {\"title\": \"The Old Man and the Sea\", \"author\": \"Ernest Miller Hemingway\",\"publisher\": \"Charles Scribner\\'s Sons\" ,\"date_received\": \"2014-11-02\"}\n",
    "new_book3 = {\"title\": \"The Great Gatsby\", \"author\": \"Francis Scott Key Fitzgerald\", \"date_received\": \"2019-01-12\"}\n",
    "\n",
    "\n",
    "\n",
    "# 데이터를 만들고 삽입하세요.\n",
    "\n",
    "data = [new_book1, new_book2, new_book3]\n",
    "result = col.insert_many(data)\n",
    "# 삽입된 데이터 id들을 출력하세요.\n",
    "\n",
    "pprint(result.inserted_ids)\n",
    "```"
   ]
  },
  {
   "cell_type": "markdown",
   "id": "latest-pattern",
   "metadata": {},
   "source": [
    "# 도큐먼트 검색 기초\n",
    "find 명령어는 컬렉션 내에 query 조건에 맞는 다수의 도큐먼트를 검색한다."
   ]
  },
  {
   "cell_type": "markdown",
   "id": "authorized-correlation",
   "metadata": {},
   "source": [
    "### 데이터 검색하기\n",
    "```python\n",
    "import pymongo\n",
    "\n",
    "\n",
    "# 데이터베이스와 컬렉션을 생성하는 코드입니다. 수정하지 마세요!\n",
    "connection = pymongo.MongoClient(\"mongodb://localhost:27017/\")\n",
    "db = connection.get_database(\"library\")\n",
    "col = db.get_collection(\"books\")\n",
    "\n",
    "# books 컬렉션에 들어있는 책들을 출력하세요.\n",
    "\n",
    "for doc in col.find():\n",
    "    print(doc)\n",
    "```"
   ]
  },
  {
   "cell_type": "markdown",
   "id": "loaded-gothic",
   "metadata": {},
   "source": [
    "### 데이터 보기 좋게 검색하기\n",
    "```python\n",
    "import pymongo\n",
    "from pprint import pprint\n",
    "\n",
    "\n",
    "# 데이터베이스와 컬렉션을 생성하는 코드입니다. 수정하지 마세요!\n",
    "connection = pymongo.MongoClient(\"mongodb://localhost:27017/\")\n",
    "db = connection.get_database(\"library\")\n",
    "col = db.get_collection(\"books\")\n",
    "\n",
    "# pprint를 이용해 데이터를 보기 좋게 출력하세요.\n",
    "\n",
    "projection = {\"_id\": False}\n",
    "cursor = col.find({}, projection)\n",
    "for doc in cursor:\n",
    "    pprint(doc)\n",
    "```"
   ]
  },
  {
   "cell_type": "markdown",
   "id": "homeless-money",
   "metadata": {},
   "source": [
    "## 커서란?\n",
    "쿼리결과에 대한 포인터<br>\n",
    "도큐먼트의 위치정보만을 반환하여 작업을 효율적으로 만들어준다."
   ]
  },
  {
   "cell_type": "markdown",
   "id": "acceptable-moses",
   "metadata": {},
   "source": [
    "# 쿼리란?\n",
    "원하는 정보를 걸러내기 위한 깔대기이다.<br>\n",
    "검색하고자 하는 내용을 쿼리롤 표현할 수 있어야한다.<br><br>\n",
    "\n",
    "### Query는 그 field에 맞는 value 값으로 필터링 한다."
   ]
  },
  {
   "cell_type": "markdown",
   "id": "transsexual-theater",
   "metadata": {},
   "source": [
    "# Projection이란?\n",
    "\n",
    "projection은 그 filed를 보여줄지 말지를 알려준다.<br>\n",
    "boolean이 true이면 해당 field를 표현하고 false면 field를 제외한 결과를 출력<br>\n",
    "* False와True 두개 동시에 표현 x"
   ]
  },
  {
   "cell_type": "markdown",
   "id": "southwest-canvas",
   "metadata": {},
   "source": [
    "# 데이터 검색하기\n",
    "```python\n",
    "import pymongo\n",
    "\n",
    "\n",
    "# 데이터베이스와 컬렉션을 생성하는 코드입니다. 수정하지 마세요!\n",
    "connection = pymongo.MongoClient(\"mongodb://localhost:27017/\")\n",
    "db = connection.get_database(\"library\")\n",
    "col = db.get_collection(\"books\")\n",
    "\n",
    "# books 컬렉션에 들어있는 책들을 출력하세요.\n",
    "\n",
    "for doc in col.find():\n",
    "    print(doc)\n",
    "```"
   ]
  },
  {
   "cell_type": "markdown",
   "id": "caring-discussion",
   "metadata": {},
   "source": [
    "# 데이터 보기 좋게 검색하기\n",
    "```python\n",
    "import pymongo\n",
    "from pprint import pprint\n",
    "\n",
    "\n",
    "# 데이터베이스와 컬렉션을 생성하는 코드입니다. 수정하지 마세요!\n",
    "connection = pymongo.MongoClient(\"mongodb://localhost:27017/\")\n",
    "db = connection.get_database(\"library\")\n",
    "col = db.get_collection(\"books\")\n",
    "\n",
    "# pprint를 이용해 데이터를 보기 좋게 출력하세요.\n",
    "\n",
    "projection = {\"_id\": False}\n",
    "cursor = col.find({}, projection)\n",
    "for doc in cursor:\n",
    "    pprint(doc)\n",
    "```"
   ]
  },
  {
   "cell_type": "markdown",
   "id": "removed-polymer",
   "metadata": {},
   "source": [
    "# 도큐먼트 수정\n",
    "query로 검색하고, update에 변경할 사항을 적는다."
   ]
  },
  {
   "cell_type": "markdown",
   "id": "tropical-strip",
   "metadata": {},
   "source": [
    "### 이 외에도 사용할 수 있는 배열 update연산자\n",
    "![title](수정.png)"
   ]
  },
  {
   "cell_type": "markdown",
   "id": "adolescent-graphic",
   "metadata": {},
   "source": [
    " ![title](수정1.png)"
   ]
  },
  {
   "cell_type": "markdown",
   "id": "complicated-maintenance",
   "metadata": {},
   "source": [
    "# 데이터 수정하기 실습\n",
    "```python\n",
    "import pymongo\n",
    "\n",
    "\n",
    "# 데이터베이스와 컬렉션을 생성하는 코드입니다. 수정하지 마세요!\n",
    "connection = pymongo.MongoClient(\"mongodb://localhost:27017/\")\n",
    "db = connection.get_database(\"library\")\n",
    "col = db.get_collection(\"books\")\n",
    "\n",
    "# 잘못 입력된 책 제목을 수정하세요.\n",
    "col.update_one({\n",
    "    \"title\" : \"The Rings of Lord\"\n",
    "    },\n",
    "    {\"$set\":{\"title\": \"The Lord of the Rings\"}}\n",
    ")\n",
    "\n",
    "# 책이 잘 수정되었는지 확인하는 코드입니다. 수정하지 마세요!\n",
    "for x in col.find():\n",
    "    print(x)\n",
    "```"
   ]
  },
  {
   "cell_type": "markdown",
   "id": "variable-witch",
   "metadata": {},
   "source": [
    "# 여러 데이터 수정하기 실습\n",
    "```python\n",
    "import pymongo\n",
    "\n",
    "\n",
    "# 데이터베이스와 컬렉션을 생성하는 코드입니다. 수정하지 마세요!\n",
    "connection = pymongo.MongoClient(\"mongodb://localhost:27017/\")\n",
    "db = connection.get_database(\"library\")\n",
    "col = db.get_collection(\"books\")\n",
    "\n",
    "# 잘못 입력된 책 작가를 수정하기 위한 딕셔너리를 만드세요.\n",
    "update = {\"$set\": {\"author\": \"Joanne Kathleen Rowling\"}}\n",
    "query = {\"title\": {\"$regex\": \"^Harry Potter\"}}\n",
    "\n",
    "# 잘못 입력된 책 작가를 수정하세요.\n",
    "# myquery = { \"필드명\": { \"$regex\": \"^찾고자 하는 내용\" } }\n",
    "update_book = col.update_many(query,update)\n",
    "\n",
    "\n",
    "# 몇 권의 책이 수정되었는지 확인하세요.\n",
    "print(update_book.modified_count)\n",
    "\n",
    "# 책이 잘 수정되었는지 확인하는 코드입니다. 수정하지 마세요!\n",
    "for x in col.find():\n",
    "    print(x)\n",
    "\n",
    "```"
   ]
  },
  {
   "cell_type": "markdown",
   "id": "warming-batman",
   "metadata": {},
   "source": [
    "# 도큐먼트 삭제\n"
   ]
  },
  {
   "cell_type": "markdown",
   "id": "solid-expression",
   "metadata": {},
   "source": [
    "# 데이터 삭제하기\n",
    "```python\n",
    "import pymongo\n",
    "\n",
    "# 데이터베이스와 컬렉션을 생성하는 코드입니다. 수정하지 마세요!\n",
    "connection = pymongo.MongoClient(\"mongodb://localhost:27017/\")\n",
    "db = connection.get_database(\"library\")\n",
    "col = db.get_collection(\"books\")\n",
    "\n",
    "# 사라진 책을 데이터베이스에서 삭제하세요.\n",
    "query = {\"title\" : \"Alice's Adventures in Wonderland\"}\n",
    "col.delete_one(query)\n",
    "\n",
    "\n",
    "```"
   ]
  },
  {
   "cell_type": "markdown",
   "id": "bizarre-disposal",
   "metadata": {},
   "source": [
    "# 여러 데이터 삭제하기\n",
    "```python\n",
    "import pymongo\n",
    "\n",
    "\n",
    "# 데이터베이스와 컬렉션을 생성하는 코드입니다. 수정하지 마세요!\n",
    "connection = pymongo.MongoClient(\"mongodb://localhost:27017/\")\n",
    "db = connection.get_database(\"library\")\n",
    "col = db.get_collection(\"books\")\n",
    "\n",
    "# 2015년에 받은 책을 삭제하기 위한 쿼리를 만드세요.\n",
    "query = {\"date_received\": {\"$regex\": \"2015\"}}\n",
    "\n",
    "# 데이터베이스에서 2015년도에 받았던 책들을 삭제하세요.\n",
    "delete_book = col.delete_many(query)\n",
    "\n",
    "# 몇 권의 책이 삭제되었는지 확인하세요.\n",
    "print(delete_book.deleted_count)\n",
    "```"
   ]
  }
 ],
 "metadata": {
  "kernelspec": {
   "display_name": "Python 3.9.2 64-bit",
   "language": "python",
   "name": "python392jvsc74a57bd0aee8b7b246df8f9039afb4144a1f6fd8d2ca17a180786b69acc140d282b71a49"
  },
  "language_info": {
   "codemirror_mode": {
    "name": "ipython",
    "version": 3
   },
   "file_extension": ".py",
   "mimetype": "text/x-python",
   "name": "python",
   "nbconvert_exporter": "python",
   "pygments_lexer": "ipython3",
   "version": "3.9.2"
  }
 },
 "nbformat": 4,
 "nbformat_minor": 5
}

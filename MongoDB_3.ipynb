{
 "cells": [
  {
   "cell_type": "markdown",
   "id": "smaller-pickup",
   "metadata": {},
   "source": [
    "# 쿼리의 구조"
   ]
  },
  {
   "cell_type": "markdown",
   "id": "proof-elizabeth",
   "metadata": {},
   "source": [
    "### SQL의 모습\n",
    "```sql\n",
    "SELECT * FROM table WHERE column=\"value\"\n",
    "```\n",
    "### 몽고디비 쿼리의 모습\n",
    "```python\n",
    "collection.find({\"field\": \"value\"},{})\n",
    "```\n",
    "기본적을 쿼리는 필드가 가장 바깥에 있고, 안쪽에 연산자가 들어간다.<br>\n",
    "\n",
    "하지만 예외적으로 **or, and, nor** 세 개의 연산자는 가장 바깥에 쓰인다.<br>\n",
    "<br>\n",
    "#### 정해진 형식을 지키지 않은 쿼리는 사용될 수 없다."
   ]
  },
  {
   "cell_type": "markdown",
   "id": "broke-springfield",
   "metadata": {},
   "source": [
    "# 점 표기법\n",
    "BSON 내부의 Object에 접근하기 위한 방법<br>\n",
    "\n",
    "```python\n",
    "{\n",
    "    \"_id\":ObjectId(\"542c2b97 bac059 5474 108b48\"),\n",
    "    \"name\":{\"first\": \"sue\", \"last\": \"Turing\" },\n",
    "    \"age\": 26,\"is_alive\":true,\n",
    "    \"groups\": [\"news\", \"sports\"],\n",
    "    \"viewTime\": ISODate(\"2017-10-24T05:02:46.395Z\")\n",
    "}\n",
    "```\n",
    "\n",
    "### name 안에 first를 조회하려면?\n",
    "\n",
    "잘못된 쿼리 -> {\"name\" : {\"first\": 'sue'}}<br>\n",
    "올바른 쿼리 -> {\"name.first\": 'sue}<br>\n",
    "\n",
    "### 배열의 첫 번째 요소로 news값을 갖는 도큐먼트를 찾고 싶다면?\n",
    "\n",
    "잘못된 쿼리 -> {\"groups\":['news']}<br>\n",
    "올바른 쿼리 -> {\"groups.0\": \"news\"}"
   ]
  },
  {
   "cell_type": "markdown",
   "id": "german-bloom",
   "metadata": {},
   "source": [
    "# 점표기법 실습\n",
    "지시사항\n",
    "1. name의 last 값이 Cate인 하나의 사람 도큐먼트에서 skills 필드를 제거하세요.\n",
    "2. 수정한 도큐먼트를 pprint()로 출력하세요.\n",
    "```python\n",
    "import pymongo\n",
    "from pprint import pprint\n",
    "# 데이터베이스와 Collection을 생성하는 코드입니다. 수정하지 마세요!\n",
    "connection = pymongo.MongoClient(\"mongodb://localhost:27017/\")\n",
    "db = connection.get_database(\"profile\")\n",
    "col = db.get_collection(\"people\")\n",
    "# name의 last 값이 \"Cate\"인 하나의 사람 도큐먼트 조건을 작성하세요.\n",
    "query = {\"name.last\": \"Cate\"}\n",
    "# 해당 도큐먼트를 수정하세요.\n",
    "result = col.update_many(query,{\"$unset\": {\"skills\": False}})\n",
    "# 수정한 도큐먼트를 조회하세요.\n",
    "cursor = col.find(query)\n",
    "# 앞선 결과를 출력하세요.\n",
    "for people in cursor:\n",
    "     pprint(people)\n"
   ]
  },
  {
   "cell_type": "markdown",
   "id": "prepared-malawi",
   "metadata": {},
   "source": [
    "# 비교 연산자"
   ]
  },
  {
   "cell_type": "markdown",
   "id": "future-sterling",
   "metadata": {},
   "source": [
    "|operator|설명|\n",
    "|-|-|\n",
    "| eq | (equals) 주어진 값과 일치하는 값|\n",
    "| gt | (greater than) 주어진 값보다 큰 값|\n",
    "| gte| (greather than or equals) 주어진 값보다 크거나 같은 값|\n",
    "| lt| (less than) 주어진 값보다 작은 값|\n",
    "| lte| (less than or equals) 주어진 값보다 작거나 같은 값|\n",
    "| ne| (not equal) 주어진 값과 일치하지 않는 값|\n",
    "| in|주어진 배열 안에 속하는 값|\n",
    "| nin|주어진 배열 안에 속하지 않는 값|\n"
   ]
  },
  {
   "cell_type": "markdown",
   "id": "civilian-withdrawal",
   "metadata": {},
   "source": [
    "## 비교예시\n",
    "좋아요 수가 10 초과 30미만인 도큐먼트 검색\n",
    "```python\n",
    "articles.find({\"likes\":{\"$gt\":10, \"$lt\":30}})\n",
    "```\n",
    "좋아요 수가 10 이상 30이하인 도큐먼트 검색\n",
    "```python\n",
    "articles.find({\"likes\":{\"$gte\":10, \"$lte\":30}})\n",
    "```\n",
    "수량이 5 또는 15인 아이템 도큐먼트\n",
    "```python\n",
    "inventory.find( { \"qty\": { \"$in\": [ 5, 15]}})\n",
    "```\n",
    "태그가 정규표현식 ^be 또는 ^st에 일치하지않는 도큐먼트\n",
    "\n",
    "```python\n",
    "inventory.find( { \"tags\": { \"$nin\": [\n",
    "    re.compile(\"^be\"),\n",
    "    re.compile(\"^st\")\n",
    "]} } )\n",
    "```\n"
   ]
  },
  {
   "cell_type": "markdown",
   "id": "higher-seafood",
   "metadata": {},
   "source": [
    "# 비교연산자 실습 -조건에 맞지 않은 도큐먼트 삭제\n",
    "\n",
    "지시사항<br>\n",
    "\n",
    "1.date_received의 값은 예시와 같은 형식의 문자열로 저장되어 있습니다.\n",
    "\n",
    "예시: \"2012-04-01\"<br>\n",
    "2. date_received 값이 2015년도 혹은 2017년도가 아닌 책들을 모두 삭제하세요.\n",
    "```python\n",
    "import pymongo\n",
    "from pprint import pprint\n",
    "import re\n",
    "\n",
    "# 데이터베이스와 Collection을 생성하는 코드입니다. 수정하지 마세요!\n",
    "connection = pymongo.MongoClient(\"mongodb://localhost:27017/\")\n",
    "db = connection.get_database(\"library\")\n",
    "col = db.get_collection(\"books\")\n",
    "\n",
    "# date_received 값이 2015년도 혹은 2017년도가 아닌 조건을 작성하세요.\n",
    "query = {\"date_received\": \n",
    "    {\"$nin\": [\n",
    "        re.compile(\"^2015\"),\n",
    "        re.compile(\"^2017\")\n",
    "    ]}\n",
    "}\n",
    "\n",
    "# 조건에 맞는 도큐먼트를 삭제하세요.\n",
    "col.delete_many(query)\n",
    "```"
   ]
  },
  {
   "cell_type": "markdown",
   "id": "furnished-isaac",
   "metadata": {},
   "source": [
    "# 비교연산자 실습 - 크기비교연산자\n",
    "\n",
    "지시사항\n",
    "1. date_received의 값은 다음과 같은 형식의 문자열로 저장되어 있습니다.\n",
    "예시: \"2012-04-01\"<br>\n",
    "2. date_received값이 2014년도부터 2017년도인 책들을 조회하세요.<br>\n",
    "\n",
    "3. 그 책들의 '_id'와 'title' 필드만 도큐먼트 형식으로 for 문을 사용하여 pprint()로 출력해보세요\n",
    "\n",
    "```python\n",
    "import pymongo\n",
    "from pprint import pprint\n",
    "# 데이터베이스와 Collection을 생성하는 코드입니다. 수정하지 마세요!\n",
    "connection = pymongo.MongoClient(\"mongodb://localhost:27017/\")\n",
    "db = connection.get_database(\"library\")\n",
    "col = db.get_collection(\"books\")\n",
    "# date_received 값이 2014년도부터 2017년도인 책들의 title 필드만 조회하세요.\n",
    "query = {\n",
    "    \"date_received\":{\n",
    "        \"$gte\": \"2014-01-01\",\n",
    "        \"$lte\": \"2017-12-31\"\n",
    "    }\n",
    "}\n",
    "projection = {\"_id\":True, \"title\":True}\n",
    "cursor = col.find(query, projection)\n",
    "# books Collection에 들어있는 책들을 출력하세요.\n",
    "for book in cursor:\n",
    "    pprint(book)\n",
    "```\n"
   ]
  },
  {
   "cell_type": "markdown",
   "id": "stone-theory",
   "metadata": {},
   "source": []
  },
  {
   "cell_type": "markdown",
   "id": "enabling-treasury",
   "metadata": {},
   "source": []
  },
  {
   "cell_type": "markdown",
   "id": "tamil-basin",
   "metadata": {},
   "source": []
  },
  {
   "cell_type": "markdown",
   "id": "opening-water",
   "metadata": {},
   "source": []
  },
  {
   "cell_type": "markdown",
   "id": "varying-mixture",
   "metadata": {},
   "source": []
  },
  {
   "cell_type": "markdown",
   "id": "monthly-orange",
   "metadata": {},
   "source": []
  },
  {
   "cell_type": "markdown",
   "id": "lyric-lodge",
   "metadata": {},
   "source": []
  }
 ],
 "metadata": {
  "kernelspec": {
   "display_name": "Python 3",
   "language": "python",
   "name": "python3"
  },
  "language_info": {
   "codemirror_mode": {
    "name": "ipython",
    "version": 3
   },
   "file_extension": ".py",
   "mimetype": "text/x-python",
   "name": "python",
   "nbconvert_exporter": "python",
   "pygments_lexer": "ipython3",
   "version": "3.9.2"
  }
 },
 "nbformat": 4,
 "nbformat_minor": 5
}

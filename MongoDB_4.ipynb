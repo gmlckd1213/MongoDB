{
 "cells": [
  {
   "cell_type": "markdown",
   "id": "accomplished-graduation",
   "metadata": {},
   "source": [
    "# 논리 연산자\n",
    "\n",
    "|operator|설명|\n",
    "|-|-|\n",
    "|or|주어진 조건 중 하나라도 ture 일 때 true|\n",
    "|and|주어진 모든 조건이 true일 때 true|\n",
    "|nor|주어진 조건 중 하나라도 false일 때 true|\n",
    "|not|주어진 조건이 false 일 때 true|"
   ]
  },
  {
   "cell_type": "markdown",
   "id": "fifth-mississippi",
   "metadata": {},
   "source": [
    "# 예시\n",
    "\n",
    "게시글 중 제목이 article01 이거나 작가가 Alpha인 도큐먼트\n",
    "```python\n",
    "articles.find({ \"$or\": [ { \"title\": \"article01\" }, { \"writer\": \"Alpha\" }]})\n",
    "```\n",
    "좋아요 수가 11 이하가 아닌 도큐먼트\n",
    "```python\n",
    "articles.find({ \"likes\": { \"$not\": { \"$lte\": 11} } })\n",
    "```\n",
    "<br>\n",
    "\n",
    "두 쿼리는 서로 같은 의미를 갖는다.\n",
    "```python\n",
    "inventory.find({\"$and\": [{\"qty\": {\"$gt\": 10}},{\"qty\": {\"$lt\": 100}}]})\n",
    "```\n",
    "```python\n",
    "inventory.find({\"qty\": {\"$gt\": 10, \"$lt\": 100} })\n",
    "```\n",
    "\n"
   ]
  },
  {
   "cell_type": "markdown",
   "id": "metric-newfoundland",
   "metadata": {},
   "source": [
    "# 논리연산자 실습\n",
    "\n",
    "1. date_received의 값은 다음과 같은 형식의 문자열로 저장되어 있습니다.\n",
    "예시: \"2012-04-01\"<br>\n",
    "\n",
    "2. \"date_received\"가 2014년도 또는 2019년도인 책 도큐먼트를 찾으세요.<br>\n",
    "\n",
    "3. 찾은 도큐먼트를 for 문을 사용해 pprint()로 출력하세요\n",
    "\n",
    "```python\n",
    "import pymongo\n",
    "from pprint import pprint\n",
    "\n",
    "# 데이터베이스와 Collection을 생성하는 코드입니다. 수정하지 마세요!\n",
    "connection = pymongo.MongoClient(\"mongodb://localhost:27017/\")\n",
    "db = connection.get_database(\"library\")\n",
    "col = db.get_collection(\"books\")\n",
    "\n",
    "# date_received가 2014년도인 책을 찾는 조건을 작성하세요.\n",
    "query1 = {\"date_received\": {\"$regex\":\"2014\"}}\n",
    "# date_received가 2019년도인 책을 찾는 조건을 작성하세요.\n",
    "query2 = {\"date_received\": {\"$regex\":\"2019\"}}\n",
    "# query1 또는 query2를 충족하는 책을 찾아주세요\n",
    "query = {\"$or\":[query1, query2]}\n",
    "cursor = col.find(query)\n",
    "\n",
    "for book in cursor:\n",
    "    pprint(book)\n",
    "```\n"
   ]
  },
  {
   "cell_type": "markdown",
   "id": "front-banner",
   "metadata": {},
   "source": [
    "# 복합 논리 연산자\n",
    "\n",
    "\n",
    "1. date_received의 값은 다음과 같은 형식의 문자열로 저장되어 있습니다.\n",
    "예시: \"2012-04-01\"<br>\n",
    "2. 다음 조건을 모두 만족시키는 책 도큐먼트를 찾으세요\n",
    "- \"author\"가 \"Antoine de Saint-Exupery\" 또는 \"Ernest Miller Hemingway\"인 책<br>\n",
    "- \"date_received\"가 2014년도 또는 2019년도인 책<br>\n",
    "3. 찾은 도큐먼트를 for 문을 사용해 pprint()로 출력하세요\n",
    "\n",
    "```python\n",
    "import pymongo\n",
    "from pprint import pprint\n",
    "\n",
    "# 데이터베이스와 Collection을 생성하는 코드입니다. 수정하지 마세요!\n",
    "connection = pymongo.MongoClient(\"mongodb://localhost:27017/\")\n",
    "db = connection.get_database(\"library\")\n",
    "col = db.get_collection(\"books\")\n",
    "\n",
    "# author가 \"Antoine de Saint-Exupery\" 또는 \"Ernest Miller Hemingway\"인 책을 찾는 조건을 작성하세요.\n",
    "query11 = {\"author\" : \"Antoine de Saint-Exupery\"}\n",
    "query12 = {\"author\" : \"Ernest Miller Hemingway\" }\n",
    "query1 = {\"$or\":[query11, query12]}\n",
    "\n",
    "# \"date_received\"가 2018년도 또는 2019년도인 책을 찾는 조건을 작성하세요.\n",
    "query21 = {\"date_received\": { \"$regex\": \"^2014\"}}\n",
    "query22 = {\"date_received\": { \"$regex\": \"^2019\"}}\n",
    "query2 = {\"$or\": [ query21, query22]}\n",
    "\n",
    "\n",
    "# query1과 query2를 모두 충족하는 책을 찾아주세요.\n",
    "query = {\"$and\": [query1,query2]}\n",
    "cursor = col.find(query)\n",
    "\n",
    "# books Collection에 들어있는 책들을 출력하세요.\n",
    "# for ~~\n",
    "#   pprint(book)\n",
    "for book in cursor:\n",
    "    pprint(book)\n",
    "```\n"
   ]
  },
  {
   "cell_type": "markdown",
   "id": "identified-kingdom",
   "metadata": {},
   "source": [
    "# 문자열 연산자\n",
    "\n",
    "|operator|설명|\n",
    "|-|-|\n",
    "|mod|그 필드에 modulo operation을 통해 특정 결과가 나온 document를 선택한다.|\n",
    "|regex|특정 정규 표현식과 맞는 document를 선택한다.|\n",
    "|text|문자열 검색의 기능을 수행한다|\n",
    "|where|자바스크립트로 알맞은 document를 선택한다|"
   ]
  },
  {
   "cell_type": "markdown",
   "id": "rising-myanmar",
   "metadata": {},
   "source": [
    "### 정규 표현식 연산자\n",
    "\n",
    "**쿼리예시**<br>\n",
    "\n",
    "```python\n",
    "{ <field>: { \"$regex\": 'pattern', \"$options\": '<options>' } }<br>\n",
    "```\n",
    "|options|설명|\n",
    "|-|-|\n",
    "|i|대소문자무시|\n",
    "|m|정규식에서 anchor(^)를 사용할 때 값에 \\n이 있다면 무력화|\n",
    "|x|정규식 안에 있는 whitespace를 모두 무시|\n",
    "|s|dot(.)사용 할 때 \\n 포함해서 매치|"
   ]
  },
  {
   "cell_type": "markdown",
   "id": "demographic-wayne",
   "metadata": {},
   "source": [
    "### Text 연산자\n",
    "\n",
    "**쿼리예시**\n",
    "```python\n",
    "{\"$text\":    { \"$search\": <string>, \"$language\": <string>,\"$caseSensitive\": <boolean>, \"$diacriticSensitive\": <boolean> }}\n",
    "```\n",
    "|options|설명|\n",
    "|-|-|\n",
    "|search|검색할 내용|\n",
    "|language|선택적.검색하는 언어|\n",
    "|caseSensitive|선택적.False일 경우 대소문자 무시. Fasle가 기본값|\n",
    "|diacriticSensitive|선택적.g와 g 같이 diacritical mark f를 구분할지 선택. False가 기본값|\n",
    "\n",
    "컬렉션당 하나만 만들 수 있는 문자열 인덱스에서만 작동함"
   ]
  },
  {
   "cell_type": "markdown",
   "id": "trained-deputy",
   "metadata": {},
   "source": [
    "#### Text연산자 예시 : 한단어\n",
    "\n",
    "```python\n",
    "articles.find( { \"$text\": { \"$search\": \"coffee\" } } )\n",
    "```\n",
    "대소문자 구별안하고 다검색<br>\n",
    "<br>\n",
    "#### Text연산자 예시 : 여러 단어\n",
    "\n",
    "```python\n",
    "articles.find( { \"$text\": { \"$search\": \"bake coffee cake\" } } )\n",
    "```\n",
    "단어 중 하나라도 들어가도 검색, 시제구분없이도 검색(과거,진행형,등)<br>\n",
    "<br>\n",
    "#### Text연산자 예시 : 구절을 검색\n",
    "\n",
    "```python\n",
    "articles.find( { \"$text\": { \"$search\": \"\\\"coffee shop\\\"\" } } )\n",
    "```\n"
   ]
  },
  {
   "cell_type": "markdown",
   "id": "fewer-football",
   "metadata": {},
   "source": [
    "# Text 연산자 실습 - 제목 검색하기\n",
    "\n",
    "지시사항\n",
    "- title 필드에 harry라는 문자열이 있는 책을 texttexttext 연산자를 활용해 찾으세요.\n",
    "\n",
    "```python\n",
    "import pymongo\n",
    "from pprint import pprint\n",
    "# 데이터베이스와 Collection을 생성하는 코드입니다. 수정하지 마세요!\n",
    "connection = pymongo.MongoClient(\"mongodb://localhost:27017/\")\n",
    "db = connection.get_database(\"library\")\n",
    "col = db.get_collection(\"books\")\n",
    "# 텍스트 인덱스를 title 필드에 생성하는 코드입니다.\n",
    "col.create_index([('title', pymongo.TEXT)], default_language='english')\n",
    "# 제목에 harry가 있는 책을 $search 연산자를 활용해 조회하세요.\n",
    "query = {\"$text\": {\"$search\": \"harry\"}}\n",
    "cursor = col.find(query)\n",
    "# 결과를 출력합니다.\n",
    "for book in cursor:\n",
    "    pprint(book)\n",
    "```"
   ]
  },
  {
   "cell_type": "markdown",
   "id": "greater-franchise",
   "metadata": {},
   "source": [
    "# 배열 연산자\n",
    "\n",
    "|operator|설명|\n",
    "|-|-|\n",
    "|all|순서와 상관없이 배열 안의 요소가 모두 포함되면 선택한다.|\n",
    "|elemMatch|elemMatch 조건과 맞는 배열|\n",
    "|size|해당 배열의 크기가 같은 Document를 선택한다.|\n"
   ]
  },
  {
   "cell_type": "markdown",
   "id": "private-flight",
   "metadata": {},
   "source": [
    "### $all 연산자: 배열 속 모든 값을 포함하는 Document를 찾는다.\n",
    "```python\n",
    "{ <field>: { \"$all\": [ <value1> , <value2> ... ] } }<br>\n",
    "```\n",
    "예시\n",
    "```python\n",
    "items.find( { \"tags\": { \"$all\": [ \"book\", \"appliance\"] } } )\n",
    "```"
   ]
  },
  {
   "cell_type": "markdown",
   "id": "front-today",
   "metadata": {},
   "source": [
    "### $elemMatch 연산자: 해당 field가 query들을 모두 만족하는 값을 갖는 도큐먼트를 검색\n",
    "```python\n",
    "{ <field>: { \"$elemMatch\": { <query1>, <query2>, ... } } }\n",
    "```\n",
    "예시\n",
    "```python\n",
    "score.find({ \"results\": { \"$elemMatch\": { \"$gte\": 80, \"$lt\": 85} } })\n",
    "```"
   ]
  },
  {
   "cell_type": "markdown",
   "id": "unnecessary-property",
   "metadata": {},
   "source": [
    "### $elemMatch를 이용하면 Query안에 query 넣어서 사용할 수 있다.\n",
    "```python\n",
    "survey.find({\"results\":{\"$elemMatch\":{\"product\":\"xyz\",\"score\": { \"$gte\": 8}}}})\n",
    "```"
   ]
  },
  {
   "cell_type": "markdown",
   "id": "leading-active",
   "metadata": {},
   "source": [
    "### $size 연산자: 해당 field가 모든 query를 만족하는 값을 갖는 Document를 선택\n",
    "```python\n",
    "{ <field>: { \"$size\": <array size> } }\n",
    "```\n",
    "예시\n",
    "```python\n",
    "scores.find(    {\"results\": {\"$size\": 3} }    )\n",
    "```"
   ]
  },
  {
   "cell_type": "markdown",
   "id": "baking-screw",
   "metadata": {},
   "source": [
    "# 배열 연산자 실습 - 배열 속 특정 값을 가진 도큐먼트 찾기\n",
    "\n",
    "지시사항\n",
    "- Python 언어의 level 값이 3인 skills를 가지고 있는 도큐먼트를 모두 출력하세요.\n",
    "\n",
    "```python\n",
    "import pymongo\n",
    "from pprint import pprint\n",
    "\n",
    "# 데이터베이스와 Collection을 생성하는 코드입니다. 수정하지 마세요!\n",
    "connection = pymongo.MongoClient(\"mongodb://localhost:27017/\")\n",
    "db = connection.get_database(\"profile\")\n",
    "col = db.get_collection(\"people\")\n",
    "\n",
    "# Python 언어의 level 값이 3인 skills를 가지고 있는 사람 도큐먼트를 조회하세요.\n",
    "query = {\"skills\": {\"$elemMatch\" : {\"name\": \"Python\", \"level\": 3}}}\n",
    "cursor = col.find(query)\n",
    "\n",
    "# 결과를 출력합니다.\n",
    "for people in cursor:\n",
    "    pprint(people)\n",
    "\n",
    "```"
   ]
  },
  {
   "cell_type": "markdown",
   "id": "contrary-sherman",
   "metadata": {},
   "source": [
    "# 배열 연산자 실습 - 배열 연산자 활용하기\n",
    "\n",
    "지시사항\n",
    "1. Ruby와 Python 프로그래밍 skills를 다룰 수 있는 사람 도큐먼트를 모두 출력하세요.<br>\n",
    "2. 프로그래밍 skills를 4개 가진 사람 도큐먼트를 모두 출력하세요.\n",
    "\n",
    "```python\n",
    "import pymongo\n",
    "from pprint import pprint\n",
    "\n",
    "# 데이터베이스와 Collection을 생성하는 코드입니다. 수정하지 마세요!\n",
    "connection = pymongo.MongoClient(\"mongodb://localhost:27017/\")\n",
    "db = connection.get_database(\"profile\")\n",
    "col = db.get_collection(\"people\")\n",
    "\n",
    "# Ruby와 Python 프로그래밍 skills를 다룰 수 있는 사람 도큐먼트를 조회\n",
    "query = {\"skills.name\": {\"$all\": [\"Ruby\", \"Python\"]}}\n",
    "cursor = col.find(query)\n",
    "\n",
    "# 결과를 출력합니다.\n",
    "for people in cursor:\n",
    "    pprint(people)\n",
    "\n",
    "# 프로그래밍 skills을 4개 가진 사람 도큐먼트들을 검색\n",
    "query = {\"skills\": {\"$size\":4}}\n",
    "cursor = col.find(query)\n",
    "\n",
    "# 결과를 출력합니다.\n",
    "for people in cursor:\n",
    "    pprint(people)\n",
    "\n",
    "```"
   ]
  },
  {
   "cell_type": "markdown",
   "id": "attempted-festival",
   "metadata": {},
   "source": []
  },
  {
   "cell_type": "markdown",
   "id": "impressed-black",
   "metadata": {},
   "source": []
  },
  {
   "cell_type": "markdown",
   "id": "curious-assist",
   "metadata": {},
   "source": []
  }
 ],
 "metadata": {
  "kernelspec": {
   "display_name": "Python 3.9.2 64-bit",
   "language": "python",
   "name": "python392jvsc74a57bd0aee8b7b246df8f9039afb4144a1f6fd8d2ca17a180786b69acc140d282b71a49"
  },
  "language_info": {
   "codemirror_mode": {
    "name": "ipython",
    "version": 3
   },
   "file_extension": ".py",
   "mimetype": "text/x-python",
   "name": "python",
   "nbconvert_exporter": "python",
   "pygments_lexer": "ipython3",
   "version": "3.9.2"
  }
 },
 "nbformat": 4,
 "nbformat_minor": 5
}

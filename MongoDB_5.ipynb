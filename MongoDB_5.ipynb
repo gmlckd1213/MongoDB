{
 "cells": [
  {
   "cell_type": "markdown",
   "id": "better-microphone",
   "metadata": {},
   "source": [
    "# Flask와 연결하기\n",
    "## 어떻게 만드는지 살펴볼 Flask 페이지 구성"
   ]
  },
  {
   "cell_type": "markdown",
   "id": "matched-handle",
   "metadata": {},
   "source": [
    "<img src=\"gu.PNG\">"
   ]
  },
  {
   "cell_type": "markdown",
   "id": "limited-uruguay",
   "metadata": {},
   "source": [
    "### 처음 Flask 설정\n",
    "```python\n",
    "import pymongo\n",
    "import csv\n",
    "from bson import ObjectId\n",
    "from flask import Flask, render_template, request\n",
    "\n",
    "app = Flask(__name__)\n",
    "client = pymongo.MongoClient('localhost', 27017)\n",
    "db = client.get_database(\"elice\")\n",
    "col = db.get_collection(\"post\")\n",
    "```"
   ]
  },
  {
   "cell_type": "markdown",
   "id": "arabic-vision",
   "metadata": {},
   "source": [
    "### 목록보기\n",
    "\n",
    "백엔드\n",
    "```python\n",
    "@app.route(\"/\", methods=['GET'])\n",
    "def index():\n",
    "    documents = col.find()\n",
    "    return render_template('index.html', documents=documents)\n",
    "```\n",
    "index.html\n",
    "```html\n",
    "{% for doc in documents %}\n",
    "<li><a href=\"/post/{{ doc._id}}\">{{ doc.title}}</a></li>\n",
    "{% endfor%}\n",
    "```\n"
   ]
  },
  {
   "cell_type": "markdown",
   "id": "little-coast",
   "metadata": {},
   "source": [
    "### 글 작성하기\n",
    "\n",
    "백엔드\n",
    "```python\n",
    "@app.route(\"/new\")\n",
    "def new():\n",
    "    return render_template('main.html')\n",
    "```\n",
    "main.html\n",
    "```html\n",
    "<h2>Add a Post</h2>\n",
    "<form action=\"/create\" method=\"POST\">\n",
    "    <table>\n",
    "        <tr><td>Title: </td><td><input name=\"title\"></td></tr>\n",
    "        <tr><td>Content: </td><td><input name=\"content\"></td></tr>\n",
    "    </table>\n",
    "</form>\n",
    "```\n",
    "\n"
   ]
  },
  {
   "cell_type": "markdown",
   "id": "improved-traffic",
   "metadata": {},
   "source": [
    "### 글 생성하기\n",
    "\n",
    "```python\n",
    "@app.route(\"/create\", methods=['POST'])\n",
    "def save():\n",
    "    data = {\"title\": request.form['title'],\n",
    "            \"content\": request.form['content']}\n",
    "    res = col.insert_one(data)\n",
    "    return redirect(f\"/post/{res.inserted_id}\")\n",
    "```"
   ]
  },
  {
   "cell_type": "markdown",
   "id": "vanilla-bread",
   "metadata": {},
   "source": [
    "### 글 읽기\n",
    "\n",
    "```python\n",
    "@app.route(\"/post/<_id>\", methods=['GET'])\n",
    "def show(_id):\n",
    "    post = col.find({ \"_id\": ObjectId(_id) })[0]\n",
    "    return render_template('show.html', post=post)\n",
    "```\n",
    "show.html\n",
    "```html\n",
    "<h2>{{ post.title}}</h2>\n",
    "_id: {{ post._id}}<br>\n",
    "Content: {{ post.content}}<br>\n",
    "```"
   ]
  },
  {
   "cell_type": "markdown",
   "id": "golden-biotechnology",
   "metadata": {},
   "source": [
    "# 실습 - 넷플릭스 작품 목록보기\n",
    "지시사항\n",
    "1. 장식자를 이용해 / URL에서 index.html을 출력하는 index() 메소드를 만드세요. 해당 페이지에는 넷플릭스 작품 목록을 보여줘야 합니다.<br>\n",
    "\n",
    "2. 장식자를 이용해 neflix/<도큐먼트 _id> URL에서 show.html을 출력하는 show() 메소드를 만드세요. 해당 페이지는 넷플릭스 도큐먼트 내용을 보여줍니다.\n",
    "\n",
    "```python\n",
    "import pymongo\n",
    "import csv\n",
    "from bson import ObjectId\n",
    "\n",
    "# Flask를 연동합니다.\n",
    "from flask import Flask, render_template, request\n",
    "\n",
    "app = Flask(__name__)\n",
    "\n",
    "# 데이터를 삽입하는 코드입니다. 수정하지 마세요!\n",
    "client = pymongo.MongoClient('localhost', 27017)\n",
    "\n",
    "db = client.get_database(\"netflix\")\n",
    "col = db.get_collection(\"titles\")\n",
    "\n",
    "reader = open('netflix_titles.csv', 'r')\n",
    "data = csv.DictReader(reader, ('show_id','type', 'title', 'director', 'cast', 'country', 'date_added', 'release_year', 'rating', 'duration', 'listed_in', 'description')) \n",
    "\n",
    "if col.find().count() == 0:\n",
    "    result = col.insert_many(data)\n",
    "\n",
    "# Netflix 작품 목록을 출력합니다.\n",
    "@app.route(\"/\")\n",
    "def index():\n",
    "    title = col.find({})\n",
    "    return  render_template('index.html', title=title)\n",
    "\n",
    "# Netflix 작품 하나의 상세 정보를 출력합니다.\n",
    "@app.route(\"/netflix/<_id>\", methods=['GET'])\n",
    "def show(_id):\n",
    "    netflix = col.find({\"_id\": ObjectId(_id)})[0]\n",
    "    return render_template('show.html', netflix=netflix)\n",
    "\n",
    "```\n"
   ]
  },
  {
   "cell_type": "markdown",
   "id": "measured-karen",
   "metadata": {},
   "source": [
    "# 실습 - 넷플릭스 작품 생성하기\n",
    "\n",
    "지시사항\n",
    "1. /new URL에서 new.html을 출력하는 new() 메소드를 만드세요. 작품 정보를 입력받는 페이지입니다.<br>\n",
    "\n",
    "2. 장식자를 이용해 /create URL에서 POST 방식으로 전송된 데이터 12개('show_id', 'type', 'title', 'director', 'cast', 'country', 'date_added', 'release_year', 'rating', 'duration', 'listed_in', 'description')를 titles 컬렉션에 삽입하세요. 삽입 이후에 neflix/<도큐먼트 _id>URL로 저장한 도큐먼트 상세 페이지로 리다이렉트 시켜주세요.\n",
    "\n",
    "```python\n",
    "import pymongo\n",
    "import csv\n",
    "from bson import ObjectId\n",
    "\n",
    "# Flask를 연동합니다.\n",
    "from flask import Flask, render_template, request, redirect\n",
    "\n",
    "app = Flask(__name__)\n",
    "\n",
    "# 데이터를 삽입하는 코드입니다. 수정하지 마세요!\n",
    "client = pymongo.MongoClient('localhost', 27017)\n",
    "\n",
    "db = client.get_database(\"netflix\")\n",
    "col = db.get_collection(\"titles\")\n",
    "\n",
    "reader = open('netflix_titles.csv', 'r')\n",
    "data = csv.DictReader(reader, ('show_id','type', 'title', 'director', 'cast', 'country', 'date_added', 'release_year', 'rating', 'duration', 'listed_in', 'description'))\n",
    "\n",
    "if col.find().count() == 0:\n",
    "    result = col.insert_many(data)\n",
    "\n",
    "# Netflix 작품 목록을 출력합니다.\n",
    "@app.route(\"/\")\n",
    "def index():\n",
    "    title = col.find({})\n",
    "    return render_template('index.html',  title=title)\n",
    "\n",
    "# Netflix 작품 하나의 상세 정보를 출력합니다.\n",
    "@app.route(\"/netflix/<_id>\", methods=['GET'])\n",
    "def show(_id):\n",
    "    netflix = col.find({\"_id\": ObjectId(_id)})[0]\n",
    "    return render_template('show.html', netflix=netflix)\n",
    "\n",
    "# 작품 정보를 입력받는 페이지입니다.\n",
    "@app.route(\"/new\")\n",
    "def new():\n",
    "    return render_template(\"new.html\")\n",
    "\n",
    "# ('show_id', 'type', 'title', 'director', 'cast', 'country', 'date_added', 'release_year', 'rating', 'duration', 'listed_in', 'description')를 titles 컬렉션에 삽입하세요.\n",
    "@app.route(\"/create\",methods=['POST'])\n",
    "def create():\n",
    "    data = {\n",
    "\t    \"show_id\": request.form['show_id'],\n",
    "\t    \"type\": request.form['type'],\n",
    "\t    \"title\": request.form['title'],\n",
    "\t    \"director\": request.form['director'],\n",
    "\t    \"cast\": request.form['cast'],\n",
    "\t    \"country\": request.form['country'],\n",
    "\t    \"date_added\": request.form['date_added'],\n",
    "\t    \"release_year\": request.form['release_year'],\n",
    "\t    \"rating\": request.form['rating'],\n",
    "\t    \"duration\": request.form['duration'],\n",
    "\t    \"listed_in\": request.form['listed_in'],\n",
    "\t    \"description\": request.form['description'],\n",
    "\n",
    "    }\n",
    "    result = col.insert_one(data)\n",
    "    return redirect(f\"/netflix/{result.inserted_id}\")\n",
    "```"
   ]
  },
  {
   "cell_type": "markdown",
   "id": "saving-analysis",
   "metadata": {},
   "source": []
  },
  {
   "cell_type": "markdown",
   "id": "judicial-magazine",
   "metadata": {},
   "source": []
  },
  {
   "cell_type": "markdown",
   "id": "valid-electronics",
   "metadata": {},
   "source": []
  },
  {
   "cell_type": "markdown",
   "id": "asian-average",
   "metadata": {},
   "source": []
  },
  {
   "cell_type": "markdown",
   "id": "friendly-costume",
   "metadata": {},
   "source": []
  },
  {
   "cell_type": "markdown",
   "id": "junior-hammer",
   "metadata": {},
   "source": []
  },
  {
   "cell_type": "markdown",
   "id": "inappropriate-marine",
   "metadata": {},
   "source": []
  },
  {
   "cell_type": "markdown",
   "id": "southern-governor",
   "metadata": {},
   "source": []
  },
  {
   "cell_type": "markdown",
   "id": "aggregate-johnson",
   "metadata": {},
   "source": []
  },
  {
   "cell_type": "markdown",
   "id": "offensive-consortium",
   "metadata": {},
   "source": []
  },
  {
   "cell_type": "markdown",
   "id": "adolescent-illustration",
   "metadata": {},
   "source": []
  }
 ],
 "metadata": {
  "kernelspec": {
   "display_name": "Python 3.9.2 64-bit",
   "language": "python",
   "name": "python392jvsc74a57bd0aee8b7b246df8f9039afb4144a1f6fd8d2ca17a180786b69acc140d282b71a49"
  },
  "language_info": {
   "codemirror_mode": {
    "name": "ipython",
    "version": 3
   },
   "file_extension": ".py",
   "mimetype": "text/x-python",
   "name": "python",
   "nbconvert_exporter": "python",
   "pygments_lexer": "ipython3",
   "version": "3.9.2"
  }
 },
 "nbformat": 4,
 "nbformat_minor": 5
}

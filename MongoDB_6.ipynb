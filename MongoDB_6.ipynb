{
 "cells": [
  {
   "cell_type": "markdown",
   "id": "cognitive-million",
   "metadata": {},
   "source": [
    "# 세가지 집계 방법론과 효율성"
   ]
  },
  {
   "cell_type": "markdown",
   "id": "exciting-dividend",
   "metadata": {},
   "source": [
    "### find명령으로 할 수 없는 것\n",
    "find 명령어로는 집계와 관련된 내용을 수행하지 못함.ex(평균, 점수별 분포 등)<br>"
   ]
  },
  {
   "cell_type": "markdown",
   "id": "modern-consultancy",
   "metadata": {},
   "source": [
    "## 도큐먼트를 집계하는 방법은 크게 세가지가 있다.\n",
    "\n",
    "1. 데이터베이스의 정보를 불러와 **애플리케이션 단계에서 집계**하는 방법 <br>\n",
    "2. MongoDB의 **맵-리듀스** 기능을 이용하는 방법\n",
    "3. MongoDB의 **집계 파이프라인** 기능을 이용하는 방법"
   ]
  },
  {
   "cell_type": "markdown",
   "id": "medical-western",
   "metadata": {},
   "source": [
    "## 집계명령의 특징\n",
    "- 원본 데이터보다 결과 데이터의 양이 더 적다.\n",
    "- 집계 연산을 데이터 처리 초기 단계에서 할수록 유리하다."
   ]
  },
  {
   "cell_type": "markdown",
   "id": "minute-holocaust",
   "metadata": {},
   "source": [
    "## MongoDB와 웹 클라이언트의 통신 구조\n",
    "<img src=\"mo.PNG\">"
   ]
  },
  {
   "cell_type": "markdown",
   "id": "aggregate-profit",
   "metadata": {},
   "source": [
    "처리 속도 : 애플리케이션 < 맵-리듀스 < 집계 파이프라인<br>\n",
    "자유도 : 애플리케이션 > 맵-리듀스 > 집계 파이프라인"
   ]
  },
  {
   "cell_type": "markdown",
   "id": "allied-despite",
   "metadata": {},
   "source": [
    "### 맵 - 리듀스\n",
    "\n",
    "맵핑함수 : 관련된 정보끼리 그룹화<br>\n",
    "리듀스 함수 : 그룹 내 정보들을 집계 연산(ex. 평균, 길이, 합산..)"
   ]
  },
  {
   "cell_type": "markdown",
   "id": "unusual-biodiversity",
   "metadata": {},
   "source": [
    "### 맵-리듀스 함수의 데이터 처리 과정\n",
    "<img src = \"ma.png\">"
   ]
  },
  {
   "cell_type": "markdown",
   "id": "elder-wales",
   "metadata": {},
   "source": [
    "### 파이프라인이란?\n",
    "\n",
    "한 데이터 처리 단계의 출력이 다음 단계의 입력으로 연결된 구조"
   ]
  },
  {
   "cell_type": "markdown",
   "id": "aquatic-hello",
   "metadata": {},
   "source": []
  }
 ],
 "metadata": {
  "kernelspec": {
   "display_name": "Python 3.9.2 64-bit",
   "language": "python",
   "name": "python392jvsc74a57bd0aee8b7b246df8f9039afb4144a1f6fd8d2ca17a180786b69acc140d282b71a49"
  },
  "language_info": {
   "codemirror_mode": {
    "name": "ipython",
    "version": 3
   },
   "file_extension": ".py",
   "mimetype": "text/x-python",
   "name": "python",
   "nbconvert_exporter": "python",
   "pygments_lexer": "ipython3",
   "version": "3.9.2"
  }
 },
 "nbformat": 4,
 "nbformat_minor": 5
}

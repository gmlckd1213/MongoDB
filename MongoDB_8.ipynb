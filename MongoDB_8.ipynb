{
 "cells": [
  {
   "cell_type": "markdown",
   "id": "italian-antibody",
   "metadata": {},
   "source": [
    "# SNS 서비스 Shortletters\n",
    "\n",
    "\"Shortletters\"는 게시글 위주의 SNS로서 게시글에 자유롭게 해시태그를 달 수 있고 해시태그를 기준으로 게시글을 찾아볼 수 있는 서비스"
   ]
  },
  {
   "cell_type": "markdown",
   "id": "foreign-apollo",
   "metadata": {},
   "source": [
    "## MVP?\n",
    "\n",
    "Minimum Viable Product 의 줄임말로 자유롭게 해시트개를 달 수 있는 게시글과 해시태그를 기준으로 데이터를 모아서 확인할 수 있는 것이다.\n",
    "<br>\n",
    "전체 SNS는 *MSA*로 이루어져 있으므로 유저 정보 등은 이번 프로젝트에서 따로 고민하지 않아도 된다.<br>\n",
    "* MSA(Micro Service Architecture)"
   ]
  },
  {
   "cell_type": "markdown",
   "id": "worth-portable",
   "metadata": {},
   "source": [
    "## 기술 선택\n",
    "\n",
    "각 해시태그를 기준으로 게시글들을 모아볼 수 있어야 함으로 해시태그를 기준으로도 각 문서가 인덱싱되어야 한다."
   ]
  },
  {
   "cell_type": "markdown",
   "id": "second-eight",
   "metadata": {},
   "source": [
    "# 개념적 설계 단계\n",
    "\n",
    "NoSQL은 RDB에 비해 상대적으로 자유로운 스키마를 추구하고 논리적/물리적 설계 단계에서의 성능향상에 관심을 가진다.\n",
    "<br>\n",
    "<br>\n",
    "## 개념적 설계 순서\n",
    "\n",
    "\n",
    "엔터티 식별 -> 관계 식별 -> 속성 식별 <br>\n",
    "<br>\n",
    "### 엔터티 식별\n",
    "\n",
    "게시글 MSA의 MVP에서는 게시글 collection만 다룬다.<br>\n",
    "### 관계 식별\n",
    "\n",
    "MongoDB에서도 collection간에 참조 가능<br>\n",
    "### 속성 식별\n",
    "\n",
    "자료의 속성이 계층형이다.<br>\n",
    "RDB에서 사용하던 ERD로는 표현이 어렵다."
   ]
  },
  {
   "cell_type": "markdown",
   "id": "ambient-space",
   "metadata": {},
   "source": [
    "# 논리적 설계 단계\n",
    "### NoSQL의 논리적 설계는 필요 없는가?\n",
    "자료가 아닌 정보로 사용하기 위해서 스키마 설계는 필요하다.<br>\n",
    "schemaless하다는 것은 자료로써 사용 가능성을 열어두는 것<br>\n",
    "\n",
    "## 논리적 설계의 꽃, 인덱스 설계\n",
    "\n",
    "NoSQL은 태생부터 빅데이터를 염두에 두고 탄생했기에 **Volume, Velocity, Variety**에 대응하기 위해 인덱싱은 필수적이다.<br>\n",
    "\n",
    "#### 단일키 인덱스 설계 예시\n",
    "```python\n",
    "letters.create_index([(\"hashTags\", pymongo.ASCENDING)]\n",
    "```\n",
    "\n",
    "#### 복합키 인덱스 설계 예시\n",
    "```python\n",
    "letters.create_index([(\"createAt\", pymongo.DESCENDING),(\"_id\", pymongo.DESCENDING)]\n",
    "```"
   ]
  },
  {
   "cell_type": "markdown",
   "id": "freelance-crime",
   "metadata": {},
   "source": [
    "# 물리적 설계 단계\n",
    "\n",
    "## 물리적 설계 단계에서는 무엇을 해야하는가?\n",
    "\n",
    "파티셔닝, 클러스터 컴퓨팅, 샤딩, 레플리카"
   ]
  },
  {
   "cell_type": "markdown",
   "id": "raising-central",
   "metadata": {},
   "source": [
    "# 실습 - 인덱스 생성하기\n",
    "\n",
    "지시사항\n",
    "\n",
    "1. shortletters 데이터베이스를 생성하세요.\n",
    "\n",
    "2. letters collection을 만들고 insert_many method를 활용하여 데이터를 삽입하세요.\n",
    "\n",
    "3. 아래 내용을 참고하여 인덱스를 생성하세요.\n",
    "- 단일 키 인덱스를 생성하세요. hashTags 필드에 대해 오름차순 정렬을 해보세요.\n",
    "- 복합 키 인덱스를 생성하세요. createAt, _id 필드에 대해 내림차순 정렬을 해보세요\n",
    "\n",
    "```python\n",
    "# 문제풀이를 위해 기본적으로 제공되는 코드입니다. 수정하지 마세요!\n",
    "import json\n",
    "import sys\n",
    "import pymongo\n",
    "# 미리 준비된 샘플 데이터를 읽어오는 코드입니다.\n",
    "with open(\"sample_data.json\") as f:\n",
    "    sample_data = json.load(f)\n",
    "# 데이터베이스를 연결하는 코드입니다.\n",
    "conn = pymongo.MongoClient(\"mongodb://localhost:27017/\")\n",
    "# 지시사항을 참고하여 shortletters 데이터베이스를 생성하세요.\n",
    "db_shortletters = conn.get_database(\"shortletters\")\n",
    "# 지시사항을 참고하여 `letters` collection을 만들고 데이터를 삽입하세요.\n",
    "col_letters = db_shortletters.get_collection(\"letters\")\n",
    "col_letters.insert_many(sample_data)\n",
    "# 지시사항을 참고하여 인덱스를 생성하세요.\n",
    "col_letters.create_index([(\"hashTags\", pymongo.ASCENDING)])\n",
    "col_letters.create_index([\n",
    "    (\"createAt\", pymongo.DESCENDING),\n",
    "    (\"_id\", pymongo.DESCENDING)\n",
    "])\n",
    "# 아래의 코드는 인덱스가 잘 생성되었는지 확인하기 위한 코드입니다. 수정하지 마세요!\n",
    "result = col_letters.index_information()\n",
    "print(result)\n",
    "```"
   ]
  },
  {
   "cell_type": "markdown",
   "id": "subject-shirt",
   "metadata": {},
   "source": [
    "# 실습 - shortletters 뉴스피드와 해시태그모아보기\n",
    "\n",
    "지시사항\n",
    "1. MongoDB: shortletters 데이터베이스를 생성하세요.\n",
    "\n",
    "2. MongoDB: letters collection을 만들고 데이터를 삽입하세요. insert_many method를 사용해서 샘플 데이터를 삽입합니다.\n",
    "\n",
    "3. 장식자를 이용해 / URL에서 index.html을 출력하는 index() 메소드를 만드세요. 이때, MongoDB로 letters collection의 전체 데이터를 읽어와서 파라미터로 넘겨줍니다. 해당 페이지는 shortletters news feeds를 출력합니다.\n",
    "\n",
    "4. 장식자를 이용해 hashtag/<hashtag> URL에서 hashtag.html을 출력하는 get_hash_tag() 메소드를 만드세요. 이때, MongoDB에서 <hashtag>로 탐색한 결과를 파라미터로 넘겨줍니다. 해당 페이지는 해시태그 모아보기 정보를 출력합니다.\n",
    "\n",
    "```python\n",
    "# 아래 코드는 Flask, PyMongo 환경을 구성하는 코드입니다. 수정하지 마세요!\n",
    "import json\n",
    "from flask import Flask, render_template\n",
    "import pymongo\n",
    "\n",
    "app = Flask(__name__)\n",
    "\n",
    "# 샘플 데이터를 읽어오는 코드입니다.\n",
    "with open(\"sample_data.json\") as f:\n",
    "    sample_data = json.load(f)\n",
    "\n",
    "# 데이터베이스를 연결하는 코드입니다.\n",
    "conn = pymongo.MongoClient(\"mongodb://localhost:27017/\")\n",
    "\n",
    "\n",
    "# 지시사항을 참고하여 shortletters 데이터베이스를 만드세요.\n",
    "db_shortletters = conn.get_database(\"shortletters\")\n",
    "\n",
    "\n",
    "# 지시사항을 참고하여 letters collection을 만들고 데이터를 삽입하세요.\n",
    "col_letters = db_shortletters.get_collection(\"letters\")\n",
    "col_letters.insert_many(sample_data)\n",
    "\n",
    "\n",
    "# 지시사항을 참고하여 shortletters news feeds를 출력합니다.\n",
    "@app.route(\"/\", methods=[\"GET\"])\n",
    "def index():\n",
    "    letters = col_letters.find({})\n",
    "    return render_template(\"index.html\", input_data=letters)\n",
    "\n",
    "\n",
    "# 지시사항을 참고하여 해시태그 모아보기 정보를 출력합니다.\n",
    "@app.route(\"/hashtag/<hashtag>\", methods=[\"GET\"])\n",
    "def get_hash_tag(hashtag):\n",
    "    letters=col_letters.find({\"hashTags\": hashtag})\n",
    "    return render_template(\"hashtag.html\", hash_tag=hashtag, input_data=letters)\n",
    "\n",
    "\n",
    "\n",
    "\n",
    "```"
   ]
  },
  {
   "cell_type": "markdown",
   "id": "three-contrast",
   "metadata": {},
   "source": []
  }
 ],
 "metadata": {
  "kernelspec": {
   "display_name": "Python 3.9.2 64-bit",
   "language": "python",
   "name": "python392jvsc74a57bd0aee8b7b246df8f9039afb4144a1f6fd8d2ca17a180786b69acc140d282b71a49"
  },
  "language_info": {
   "codemirror_mode": {
    "name": "ipython",
    "version": 3
   },
   "file_extension": ".py",
   "mimetype": "text/x-python",
   "name": "python",
   "nbconvert_exporter": "python",
   "pygments_lexer": "ipython3",
   "version": "3.9.2"
  }
 },
 "nbformat": 4,
 "nbformat_minor": 5
}
